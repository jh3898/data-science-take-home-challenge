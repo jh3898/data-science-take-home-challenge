{
 "cells": [
  {
   "cell_type": "markdown",
   "metadata": {},
   "source": [
    "# Employee retention \n",
    "Predict when the employee is going to quit\n",
    "1.  build a table with 3 columns, day, emplyee_headcount, company_id\n",
    "2. What are the main factors that derive employee churn? Why?\n",
    "3. add one more factor to explain employee churn.\n"
   ]
  },
  {
   "cell_type": "code",
   "execution_count": 8,
   "metadata": {},
   "outputs": [],
   "source": [
    "import numpy as np\n",
    "import pandas as pd\n",
    "import datetime\n",
    "from scipy.stats import ttest_ind\n",
    "from sklearn.model_selection import train_test_split\n",
    "from sklearn.ensemble import RandomForestClassifier\n",
    "import matplotlib.pyplot as plt\n",
    "\n",
    "%matplotlib inline"
   ]
  },
  {
   "cell_type": "code",
   "execution_count": 9,
   "metadata": {},
   "outputs": [
    {
     "data": {
      "text/html": [
       "<div>\n",
       "<style scoped>\n",
       "    .dataframe tbody tr th:only-of-type {\n",
       "        vertical-align: middle;\n",
       "    }\n",
       "\n",
       "    .dataframe tbody tr th {\n",
       "        vertical-align: top;\n",
       "    }\n",
       "\n",
       "    .dataframe thead th {\n",
       "        text-align: right;\n",
       "    }\n",
       "</style>\n",
       "<table border=\"1\" class=\"dataframe\">\n",
       "  <thead>\n",
       "    <tr style=\"text-align: right;\">\n",
       "      <th></th>\n",
       "      <th>employee_id</th>\n",
       "      <th>company_id</th>\n",
       "      <th>dept</th>\n",
       "      <th>seniority</th>\n",
       "      <th>salary</th>\n",
       "      <th>join_date</th>\n",
       "      <th>quit_date</th>\n",
       "    </tr>\n",
       "  </thead>\n",
       "  <tbody>\n",
       "    <tr>\n",
       "      <th>0</th>\n",
       "      <td>13021.0</td>\n",
       "      <td>7</td>\n",
       "      <td>customer_service</td>\n",
       "      <td>28</td>\n",
       "      <td>89000.0</td>\n",
       "      <td>2014-03-24</td>\n",
       "      <td>2015-10-30</td>\n",
       "    </tr>\n",
       "    <tr>\n",
       "      <th>1</th>\n",
       "      <td>825355.0</td>\n",
       "      <td>7</td>\n",
       "      <td>marketing</td>\n",
       "      <td>20</td>\n",
       "      <td>183000.0</td>\n",
       "      <td>2013-04-29</td>\n",
       "      <td>2014-04-04</td>\n",
       "    </tr>\n",
       "    <tr>\n",
       "      <th>2</th>\n",
       "      <td>927315.0</td>\n",
       "      <td>4</td>\n",
       "      <td>marketing</td>\n",
       "      <td>14</td>\n",
       "      <td>101000.0</td>\n",
       "      <td>2014-10-13</td>\n",
       "      <td>NaN</td>\n",
       "    </tr>\n",
       "    <tr>\n",
       "      <th>3</th>\n",
       "      <td>662910.0</td>\n",
       "      <td>7</td>\n",
       "      <td>customer_service</td>\n",
       "      <td>20</td>\n",
       "      <td>115000.0</td>\n",
       "      <td>2012-05-14</td>\n",
       "      <td>2013-06-07</td>\n",
       "    </tr>\n",
       "    <tr>\n",
       "      <th>4</th>\n",
       "      <td>256971.0</td>\n",
       "      <td>2</td>\n",
       "      <td>data_science</td>\n",
       "      <td>23</td>\n",
       "      <td>276000.0</td>\n",
       "      <td>2011-10-17</td>\n",
       "      <td>2014-08-22</td>\n",
       "    </tr>\n",
       "  </tbody>\n",
       "</table>\n",
       "</div>"
      ],
      "text/plain": [
       "   employee_id  company_id              dept  seniority    salary   join_date  \\\n",
       "0      13021.0           7  customer_service         28   89000.0  2014-03-24   \n",
       "1     825355.0           7         marketing         20  183000.0  2013-04-29   \n",
       "2     927315.0           4         marketing         14  101000.0  2014-10-13   \n",
       "3     662910.0           7  customer_service         20  115000.0  2012-05-14   \n",
       "4     256971.0           2      data_science         23  276000.0  2011-10-17   \n",
       "\n",
       "    quit_date  \n",
       "0  2015-10-30  \n",
       "1  2014-04-04  \n",
       "2         NaN  \n",
       "3  2013-06-07  \n",
       "4  2014-08-22  "
      ]
     },
     "execution_count": 9,
     "metadata": {},
     "output_type": "execute_result"
    }
   ],
   "source": [
    "df = pd.read_csv('employee_retention_data.csv', parse_dates = True)\n",
    "df.head()"
   ]
  },
  {
   "cell_type": "code",
   "execution_count": 13,
   "metadata": {},
   "outputs": [
    {
     "data": {
      "text/plain": [
       "0    585 days\n",
       "1    340 days\n",
       "2         NaT\n",
       "3    389 days\n",
       "4   1040 days\n",
       "Name: work_time, dtype: timedelta64[ns]"
      ]
     },
     "execution_count": 13,
     "metadata": {},
     "output_type": "execute_result"
    }
   ],
   "source": [
    "df['join_date']= pd.DatetimeIndex(df['join_date'])\n",
    "df['quit_date']= pd.DatetimeIndex(df['quit_date'])\n",
    "df['work_time']= df['quit_date']- df['join_date']\n",
    "df['work_time'].head()"
   ]
  },
  {
   "cell_type": "code",
   "execution_count": 18,
   "metadata": {},
   "outputs": [
    {
     "data": {
      "text/html": [
       "<div>\n",
       "<style scoped>\n",
       "    .dataframe tbody tr th:only-of-type {\n",
       "        vertical-align: middle;\n",
       "    }\n",
       "\n",
       "    .dataframe tbody tr th {\n",
       "        vertical-align: top;\n",
       "    }\n",
       "\n",
       "    .dataframe thead th {\n",
       "        text-align: right;\n",
       "    }\n",
       "</style>\n",
       "<table border=\"1\" class=\"dataframe\">\n",
       "  <thead>\n",
       "    <tr style=\"text-align: right;\">\n",
       "      <th></th>\n",
       "      <th>employee_id</th>\n",
       "      <th>company_id</th>\n",
       "      <th>dept</th>\n",
       "      <th>seniority</th>\n",
       "      <th>salary</th>\n",
       "      <th>join_date</th>\n",
       "      <th>quit_date</th>\n",
       "      <th>work_time</th>\n",
       "    </tr>\n",
       "  </thead>\n",
       "  <tbody>\n",
       "  </tbody>\n",
       "</table>\n",
       "</div>"
      ],
      "text/plain": [
       "Empty DataFrame\n",
       "Columns: [employee_id, company_id, dept, seniority, salary, join_date, quit_date, work_time]\n",
       "Index: []"
      ]
     },
     "execution_count": 18,
     "metadata": {},
     "output_type": "execute_result"
    }
   ],
   "source": [
    "#df1 = df.groupby(['company_id','join_date','quit_date'])['employee_id'].count()\n",
    "df.loc[df['join_date']==df['quit_date'] ]\n"
   ]
  },
  {
   "cell_type": "code",
   "execution_count": 16,
   "metadata": {},
   "outputs": [
    {
     "data": {
      "text/plain": [
       "company_id  join_date   quit_date \n",
       "1           2011-01-24  2011-10-21    1\n",
       "                        2011-12-30    2\n",
       "                        2012-01-06    1\n",
       "                        2012-02-03    1\n",
       "                        2012-02-24    1\n",
       "                        2012-04-13    1\n",
       "                        2012-08-31    1\n",
       "                        2012-11-09    1\n",
       "                        2012-12-21    1\n",
       "                        2013-02-08    1\n",
       "                        2013-03-01    2\n",
       "                        2013-03-08    1\n",
       "                        2013-03-22    1\n",
       "                        2013-04-05    1\n",
       "                        2013-06-07    1\n",
       "                        2013-07-05    1\n",
       "                        2013-11-15    1\n",
       "                        2014-01-03    1\n",
       "                        2014-01-24    1\n",
       "                        2014-05-09    1\n",
       "                        2014-11-28    1\n",
       "                        2014-12-19    1\n",
       "                        2015-01-16    1\n",
       "            2011-01-25  2011-11-11    1\n",
       "                        2015-07-06    1\n",
       "            2011-01-26  2012-01-06    1\n",
       "                        2013-03-22    1\n",
       "            2011-01-31  2011-11-22    1\n",
       "                        2011-11-25    1\n",
       "                        2012-01-06    1\n",
       "                                     ..\n",
       "10          2014-11-03  2015-11-20    1\n",
       "            2014-11-10  2015-11-27    1\n",
       "            2014-11-13  2015-10-02    1\n",
       "            2014-11-17  2015-12-04    1\n",
       "            2014-11-24  2015-11-13    1\n",
       "            2015-01-06  2015-11-20    1\n",
       "11          2011-02-22  2013-06-21    1\n",
       "            2011-10-31  2012-12-07    1\n",
       "            2011-12-27  2014-03-28    1\n",
       "            2012-03-26  2014-08-08    1\n",
       "            2012-04-11  2015-02-06    1\n",
       "            2012-06-18  2013-06-07    1\n",
       "            2013-01-15  2014-01-24    1\n",
       "            2013-02-05  2014-02-21    1\n",
       "            2013-02-25  2014-08-15    1\n",
       "            2013-09-12  2014-07-18    1\n",
       "            2014-02-10  2015-01-30    1\n",
       "            2014-06-16  2015-05-08    1\n",
       "12          2011-03-14  2012-02-24    1\n",
       "            2011-05-16  2012-05-04    1\n",
       "            2011-06-06  2012-05-18    1\n",
       "            2011-06-20  2013-10-18    1\n",
       "            2011-10-13  2013-07-12    1\n",
       "            2012-03-12  2013-04-05    1\n",
       "            2012-07-02  2013-05-10    1\n",
       "            2012-11-12  2013-10-25    1\n",
       "            2012-11-26  2014-09-19    1\n",
       "            2013-03-11  2014-02-07    1\n",
       "            2013-07-29  2015-05-08    1\n",
       "            2014-05-19  2015-05-08    1\n",
       "Name: employee_id, Length: 12696, dtype: int64"
      ]
     },
     "execution_count": 16,
     "metadata": {},
     "output_type": "execute_result"
    }
   ],
   "source": [
    "df.groupby(['company_id','join_date','quit_date'])['employee_id'].count()"
   ]
  },
  {
   "cell_type": "code",
   "execution_count": null,
   "metadata": {},
   "outputs": [],
   "source": []
  }
 ],
 "metadata": {
  "kernelspec": {
   "display_name": "Python 3",
   "language": "python",
   "name": "python3"
  },
  "language_info": {
   "codemirror_mode": {
    "name": "ipython",
    "version": 3
   },
   "file_extension": ".py",
   "mimetype": "text/x-python",
   "name": "python",
   "nbconvert_exporter": "python",
   "pygments_lexer": "ipython3",
   "version": "3.7.0"
  }
 },
 "nbformat": 4,
 "nbformat_minor": 2
}
